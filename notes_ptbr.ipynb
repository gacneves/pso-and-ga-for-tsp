{
  "nbformat": 4,
  "nbformat_minor": 0,
  "metadata": {
    "colab": {
      "provenance": []
    },
    "kernelspec": {
      "name": "python3",
      "display_name": "Python 3"
    },
    "language_info": {
      "name": "python"
    }
  },
  "cells": [
    {
      "cell_type": "markdown",
      "source": [
        "# *Travelling Salesman Problem* (TSP)\n",
        "\n",
        "Desenvolvimento de Algoritmo Genético (GA) e Otimização por Enxame de Partículas (PSO) para solucionar o problema do Caixeiro Viajante feita durante a disciplina de Computação Bioinspirada pela UNIFESP.\n",
        "\n",
        "Feito por Gabriel Angelo Cabral Neves.\n",
        "\n",
        "\n",
        "\n"
      ],
      "metadata": {
        "id": "_3NbfWZDmj6h"
      }
    },
    {
      "cell_type": "markdown",
      "source": [
        "# Tabela de distância entre as cidades"
      ],
      "metadata": {
        "id": "CNpHrJ4tp76G"
      }
    },
    {
      "cell_type": "code",
      "execution_count": 6,
      "metadata": {
        "colab": {
          "base_uri": "https://localhost:8080/"
        },
        "id": "SKwNhVhTmirx",
        "outputId": "e315a6a3-cdba-4ba8-d130-46a00e621f7f"
      },
      "outputs": [
        {
          "output_type": "stream",
          "name": "stdout",
          "text": [
            "    A   B   C   D   E   F   G   H\n",
            "A   -  42  61  30  17  82  31  11\n",
            "B  42   -  14  87  28  70  19  33\n",
            "C  61  14   -  20  87  28   8  29\n",
            "D  30  87  20   -  34  33  91  10\n",
            "E  17  28  87  34   -  41  34  82\n",
            "F  82  70  28  33  41   -  19  32\n",
            "G  31  19   8  91  34  19   -  59\n",
            "H  11  33  29  10  82  32  59   -\n"
          ]
        }
      ],
      "source": [
        "import pandas as pd\n",
        "\n",
        "def read_table_of_distances(fp):\n",
        "    \"\"\"\n",
        "    Open a .csv file of the distances between each city pair\n",
        "\n",
        "    :param fp: File path\n",
        "    :return: Data frame of the distances\n",
        "    \"\"\"\n",
        "    df = pd.read_csv(fp, index_col=0)\n",
        "\n",
        "    # Check if there is a NaN value\n",
        "    if not df.isnull().values.any():\n",
        "        return df\n",
        "\n",
        "    # Populate data frame if only half of it is complete\n",
        "    for col in df:\n",
        "        for lin in df[col].keys():\n",
        "            df[lin][col] = df[col][lin]\n",
        "\n",
        "    return df\n",
        "  \n",
        "print(read_table_of_distances('distances.csv'))"
      ]
    },
    {
      "cell_type": "markdown",
      "source": [
        "# Função de aptidão"
      ],
      "metadata": {
        "id": "6k36p5yBoqq2"
      }
    },
    {
      "cell_type": "code",
      "source": [
        "def distance_of_route(route, table_of_distances):\n",
        "    \"\"\"\n",
        "    Calculates the total distance traveled of a route\n",
        "\n",
        "    :param route: Desired route\n",
        "    :param table_of_distances: Table of distances containing each city pair\n",
        "    :return: Total distance traveled\n",
        "    \"\"\"\n",
        "    no_of_cities = len(route)\n",
        "    total_distance = 0\n",
        "    for city in range(no_of_cities):\n",
        "        current_city = route[city]\n",
        "        next_city = route[city + 1] if city < (no_of_cities - 1) else route[0]\n",
        "        total_distance += int(table_of_distances[current_city][next_city])\n",
        "        \n",
        "    return total_distance\n"
      ],
      "metadata": {
        "id": "iViqg6suowvJ"
      },
      "execution_count": 9,
      "outputs": []
    },
    {
      "cell_type": "markdown",
      "source": [
        "# Genetic Algorithm (GA)"
      ],
      "metadata": {
        "id": "sJf2ybXNqFWg"
      }
    },
    {
      "cell_type": "markdown",
      "source": [
        "Para representarmos a solução, que podemos chamar de cromossomo, a classe Chromossome foi criada, possuindo os atributos de rota e aptidão, além de possuir um método que faz a mutação de um gene trocando duas cidades da rota de lugar."
      ],
      "metadata": {
        "id": "DAn7n3ObmZKf"
      }
    },
    {
      "cell_type": "code",
      "source": [
        "from random import sample\n",
        "import math\n",
        "\n",
        "class Chromosome:\n",
        "    def __init__(self, route):\n",
        "        self.route = route\n",
        "        self.fitness = math.inf\n",
        "\n",
        "    def mutate(self):\n",
        "        city1, city2 = sample(range(1, len(self.route)), 2)\n",
        "        self.route[city1], self.route[city2] = self.route[city2], self.route[city1]"
      ],
      "metadata": {
        "id": "ykf0POs8qQ2z"
      },
      "execution_count": 3,
      "outputs": []
    },
    {
      "cell_type": "markdown",
      "source": [
        "A função de seleção, que descreve o método de torneio para a escolha dos pais que gererão os filhos, e também a que descreve o operador genético de *crossover* podem ser encontradas logo abaixo. \n",
        "\n",
        "A primeira utiliza a aptidão de N indivíduos selecionados aleatoriamente para ordená-los e selecionar o melhor dentre eles para se tornar o pai de um filho que será gerado posteriormente.\n",
        "\n",
        "Já o operador genético possui um comportamento um pouco mais complexo. É escolhido aleatoriamente um intervalo dos pais que será passado automaticamente aos filhos, e as demais cidades serão pegadas do outro pai na ordem em que elas aparecem na rota, evitando repetir aquelas que já foram escolhidas."
      ],
      "metadata": {
        "id": "lu6iaA7mm3DV"
      }
    },
    {
      "cell_type": "code",
      "source": [
        "def tournament(parent_list, n):\n",
        "    \"\"\"\n",
        "    Make a crossover between two parents of solutions of TSP. Basically an interval is generated randomly and each child\n",
        "    receives a slice of one of the parents based on these values, then it is completed with the missing cities in the\n",
        "    order they appear in the other parent.\n",
        "\n",
        "    :param parent1: Parent one\n",
        "    :param parent2: Parent two\n",
        "    :return: Two chromosomes generated from the crossover of parent1 and parent2\n",
        "    \"\"\"\n",
        "    candidates = sample(parent_list, n)\n",
        "    return sorted(candidates, key=lambda chromosome: chromosome.fitness, reverse=False)[0]\n",
        "\n",
        "def crossover(parent1, parent2):\n",
        "    \"\"\"\n",
        "    Make a crossover between two parents of solutions of TSP. Basically an interval is generated randomly and each child\n",
        "    receives a slice of one of the parents based on these values, then it is completed with the missing cities in the\n",
        "    order they appear in the other parent.\n",
        "\n",
        "    :param parent1: Parent one\n",
        "    :param parent2: Parent two\n",
        "    :return: Two chromosomes generated from the crossover of parent1 and parent2\n",
        "    \"\"\"\n",
        "    length = len(parent1.route)\n",
        "    child1_route = [None] * length\n",
        "    child2_route = [None] * length\n",
        "\n",
        "    indexes = sample(range(length), 2)\n",
        "    start, end = min(indexes), max(indexes)\n",
        "    end += 1\n",
        "    child1_route[start:end], child2_route[start:end] = parent2.route[start:end], parent1.route[start:end]\n",
        "\n",
        "    parent_order_index = 0\n",
        "    for child_city in range(length):\n",
        "        if child1_route[child_city] is None:\n",
        "            while parent1.route[parent_order_index] in child1_route:\n",
        "                parent_order_index += 1\n",
        "            child1_route[child_city] = parent1.route[parent_order_index]\n",
        "\n",
        "    parent_order_index = 0\n",
        "    for child_city in range(length):\n",
        "        if child2_route[child_city] is None:\n",
        "            while parent2.route[parent_order_index] in child2_route:\n",
        "                parent_order_index += 1\n",
        "            child2_route[child_city] = parent2.route[parent_order_index]\n",
        "\n",
        "    return Chromosome(child1_route), Chromosome(child2_route)"
      ],
      "metadata": {
        "id": "F2NUWABhm3s7"
      },
      "execution_count": 4,
      "outputs": []
    },
    {
      "cell_type": "markdown",
      "source": [
        "\n",
        "O Algoritmo Genético (GA) em si, possui algumas etapas para sua utilização, sendo primeiro a sua configuração de parâmetros, inicialização e avaliação da população, e o processo de evolução que repetirá pelas gerações desejadas.\n"
      ],
      "metadata": {
        "id": "frvqZPsDm4dy"
      }
    },
    {
      "cell_type": "code",
      "source": [
        "from random import random\n",
        "\n",
        "class GA:\n",
        "    def __init__(self, table_of_distances, population_size, generations, mutation_rate, elitism, tournament_size,\n",
        "                 fitness_function):\n",
        "        \"\"\"\n",
        "        Genetic Algorithm to solve TSP\n",
        "\n",
        "        :param table_of_distances: Distances of each city pair\n",
        "        :param population_size: Number of individuals in population\n",
        "        :param generations: Maximum number of generations\n",
        "        :param mutation_rate: Probability of an individual of the population to mutate\n",
        "        :param elitism: Number of the best individuals to be carried over to the next generation\n",
        "        :param tournament_size: Size of the tournament selection\n",
        "        :param fitness_function: Function to evaluate each individual of the population\n",
        "        \"\"\"\n",
        "        self.table_of_distances = table_of_distances\n",
        "        self.generations = generations\n",
        "        self.population_size = population_size\n",
        "        self.population = []\n",
        "        self.__initialize_population()\n",
        "        self.ranking = []\n",
        "        self.elitism = elitism\n",
        "        self.tournament_size = tournament_size\n",
        "        self.mutation_rate = mutation_rate\n",
        "        self.fitness_function = fitness_function\n",
        "\n",
        "    def __initialize_population(self):\n",
        "        cities = list(self.table_of_distances.index.values)\n",
        "        for individual in range(self.population_size):\n",
        "            initial_route = sample(cities, len(cities))\n",
        "            self.population.append(Chromosome(initial_route))\n",
        "\n",
        "    def evaluate_population(self):\n",
        "        self.ranking = []\n",
        "        for chromosome in self.population:\n",
        "            chromosome.fitness = self.fitness_function(chromosome.route, self.table_of_distances)\n",
        "            if not self.ranking:\n",
        "                self.ranking.append(chromosome)\n",
        "                continue\n",
        "            for position in self.ranking:\n",
        "                if chromosome.fitness < position.fitness:\n",
        "                    self.ranking.insert(self.ranking.index(position), chromosome)\n",
        "                    break\n",
        "            else:\n",
        "                self.ranking.append(chromosome)\n",
        "\n",
        "    def generate_new_population(self):\n",
        "        new_population = []\n",
        "\n",
        "        # Elitism warranty\n",
        "        new_population += self.ranking[:self.elitism]\n",
        "\n",
        "        # Parent selection\n",
        "        parent_list = []\n",
        "        for _ in range(self.population_size - self.elitism):\n",
        "            parent = tournament(self.ranking, self.tournament_size)\n",
        "            parent_list.append(parent)\n",
        "\n",
        "        # Crossover\n",
        "        length = len(parent_list)\n",
        "        for i in range(math.ceil(length / 2)):\n",
        "            parent1 = parent_list[i]\n",
        "            parent2 = parent_list[length - i - 1] if i != length - i - 1 else sample(parent_list[:i - 1] +\n",
        "                                                                                     parent_list[i + 1:], 1)[0]\n",
        "            child1, child2 = crossover(parent1, parent2)\n",
        "            new_population.append(child1)\n",
        "            new_population.append(child2)\n",
        "\n",
        "        # Mutation\n",
        "        for individual in new_population[self.elitism:]:\n",
        "            probability = random()\n",
        "            if probability <= self.mutation_rate:\n",
        "                individual.mutate()\n",
        "              \n",
        "        self.population = new_population\n",
        "\n",
        "    def evolve(self):\n",
        "        for _ in range(self.generations):\n",
        "            self.evaluate_population()\n",
        "            self.generate_new_population()\n",
        "        print('Best route is', self.ranking[0].route, 'with a distance equal to', self.ranking[0].fitness)"
      ],
      "metadata": {
        "id": "fvgAu3KEm3Z3"
      },
      "execution_count": 11,
      "outputs": []
    },
    {
      "cell_type": "markdown",
      "source": [
        "## Configuração de parâmetros e avaliação do algoritmo genético"
      ],
      "metadata": {
        "id": "ouHhXEKsoeZC"
      }
    },
    {
      "cell_type": "code",
      "source": [
        "cities_distance = read_table_of_distances('distances.csv')\n",
        "population = 50\n",
        "generations = 1000\n",
        "mutation_rate = 0.01\n",
        "elitism = 5\n",
        "tournament_selection = 3\n",
        "fitness_func = distance_of_route\n",
        "for _ in range(15):\n",
        "    ga = GA(cities_distance, population, generations, mutation_rate, elitism, tournament_selection, fitness_func)\n",
        "    ga.evolve()"
      ],
      "metadata": {
        "colab": {
          "base_uri": "https://localhost:8080/"
        },
        "id": "PkYAE0pvoevm",
        "outputId": "1057bd6e-3553-447b-90c2-191f0c1e9da7"
      },
      "execution_count": 14,
      "outputs": [
        {
          "output_type": "stream",
          "name": "stdout",
          "text": [
            "Best route is ['E', 'A', 'H', 'D', 'F', 'G', 'C', 'B'] with a distance equal to 140\n",
            "Best route is ['F', 'D', 'H', 'A', 'E', 'B', 'C', 'G'] with a distance equal to 140\n",
            "Best route is ['A', 'E', 'F', 'G', 'B', 'C', 'D', 'H'] with a distance equal to 151\n",
            "Best route is ['A', 'H', 'D', 'F', 'G', 'C', 'B', 'E'] with a distance equal to 140\n",
            "Best route is ['F', 'G', 'B', 'C', 'D', 'H', 'A', 'E'] with a distance equal to 151\n",
            "Best route is ['E', 'A', 'H', 'D', 'F', 'G', 'C', 'B'] with a distance equal to 140\n",
            "Best route is ['E', 'A', 'H', 'D', 'C', 'B', 'G', 'F'] with a distance equal to 151\n",
            "Best route is ['E', 'A', 'H', 'D', 'F', 'G', 'C', 'B'] with a distance equal to 140\n",
            "Best route is ['B', 'E', 'A', 'G', 'F', 'H', 'D', 'C'] with a distance equal to 171\n",
            "Best route is ['B', 'C', 'G', 'F', 'D', 'H', 'A', 'E'] with a distance equal to 140\n",
            "Best route is ['F', 'D', 'H', 'A', 'E', 'B', 'C', 'G'] with a distance equal to 140\n",
            "Best route is ['B', 'C', 'G', 'F', 'E', 'A', 'D', 'H'] with a distance equal to 172\n",
            "Best route is ['H', 'A', 'E', 'F', 'G', 'B', 'C', 'D'] with a distance equal to 151\n",
            "Best route is ['F', 'D', 'H', 'A', 'E', 'B', 'C', 'G'] with a distance equal to 140\n",
            "Best route is ['A', 'E', 'F', 'G', 'B', 'C', 'D', 'H'] with a distance equal to 151\n"
          ]
        }
      ]
    },
    {
      "cell_type": "markdown",
      "source": [
        "# *Particle Swarm Optimization* (PSO)"
      ],
      "metadata": {
        "id": "2xemLdEmqRy7"
      }
    },
    {
      "cell_type": "markdown",
      "source": [
        "Para representar as párticulas (soluções) do PSO, foi desenvolvido a classe *Particle* que possui como atributos a rota (posição), sequência de troca (velocidade), a aptidão atual, a melhor aptidão encontrada e a rota referente a essa melhor aptdidão.\n",
        "\n",
        "Lembrando que a atualização da posição e da velocidade devem seguir as seguintes equações, onde serão feitas algumas definições para que seja possível aplicá-las no TSP.\n",
        "\n",
        "> $v(t) = v(t-1) + Φ_{1} (x_{global} - x(t-1)) + Φ_{2} (x_{local} - x(t-1))$ \\\\\n",
        "> $x(t) = x(t-1) + v(t-1)$ \\\\\n",
        ">\n",
        "> **Sendo:** \\\\\n",
        "> $Φ_{1}$ = Coeficiente da melhor solução global \\\\\n",
        "> $x_{global} $ = Melhor solução global \\\\\n",
        "> $Φ_{2}$ = Coeficiente da melhor solução local \\\\\n",
        "> $x_{local} $ = Melhor solução local\n",
        "\n",
        "Como as rotas serão tratadas como a posição, deve-se definir qual o significado da operação de subtração entre duas rotas, e consequentemente definir a velocidade e como ela altera a posição em sua atualização.\n",
        "\n",
        "Podemos tratar a operação $SS = A - B$ entre duas rotas como **a sequência de trocas entre as cidades da rota $B$ para que ela seja igual a rota $A$**. Dessa forma é possível chegar que $A = B + SS$, e traçando um parelelo entre a equação da posição define-se a velocidade como uma determinada sequência de trocas a ser aplicada na posição para sua atualização.\n",
        "\n",
        "Portanto foi criada a classe *SwapSequence* que representa a velocidade de uma párticula, assim como o resultado da operação de subtração entre duas rotas."
      ],
      "metadata": {
        "id": "leNOYiFvx29c"
      }
    },
    {
      "cell_type": "code",
      "source": [
        "from random import randint\n",
        "\n",
        "class SwapSequence:\n",
        "    def __init__(self):\n",
        "        self.queue = []\n",
        "\n",
        "    def enqueue(self, exchange_tuple):\n",
        "        self.queue.append(exchange_tuple)\n",
        "\n",
        "    def dequeue(self):\n",
        "        return self.queue.pop(0)\n",
        "\n",
        "    def enqueue_ss(self, ss_queue):\n",
        "        self.queue.extend(ss_queue)\n",
        "\n",
        "class Particle:\n",
        "    def __init__(self, route):\n",
        "        \"\"\"\n",
        "        Individual of the swarm\n",
        "\n",
        "        :param route: Initial route of the particle\n",
        "        \"\"\"\n",
        "        self.route = route  # Particle position\n",
        "        self.swap_sequence = SwapSequence()  # Particle velocity\n",
        "        self.__generate_initial_swap_sequence()  # Initial velocity\n",
        "        self.fitness = math.inf\n",
        "        self.my_best_fitness = math.inf\n",
        "        self.my_best_route = []\n",
        "\n",
        "    def __generate_initial_swap_sequence(self):\n",
        "        cities_number = len(self.route)\n",
        "        swap_no = randint(0, cities_number)\n",
        "        for swap in range(swap_no):\n",
        "            city_i = randint(0, cities_number - 1)\n",
        "            city_j = randint(0, cities_number - 1)\n",
        "            self.swap_sequence.enqueue((city_i, city_j))\n",
        "\n",
        "def swap_cities(route, i, j):\n",
        "    \"\"\"\n",
        "    Swap element of index i with element of index j in array route\n",
        "\n",
        "    :param route: Array of elements to be swapped\n",
        "    :param i: Index of the first element\n",
        "    :param j: Index of the second element\n",
        "    \"\"\"\n",
        "    route[i], route[j] = route[j], route[i]\n",
        "\n",
        "\n",
        "def routes_subtraction(route_one, route_two):\n",
        "    \"\"\"\n",
        "    Generate a SwapSequence for the route_two to become the route_one (SS = A - B => B + SS = A)\n",
        "\n",
        "    :param route_one: Left operand of the subtraction\n",
        "    :param route_two: Right operand of the subtraction\n",
        "    :return: SwapSequence for route_two\n",
        "    \"\"\"\n",
        "    swappable_route_two = route_two.copy()\n",
        "    result_ss = SwapSequence()\n",
        "    length = len(route_one)\n",
        "    index = 0\n",
        "    while index < length:\n",
        "        if route_one[index] != swappable_route_two[index]:\n",
        "            swap_index = swappable_route_two.index(route_one[index])\n",
        "            result_ss.enqueue((index, swap_index))\n",
        "            swap_cities(swappable_route_two, index, swap_index)\n",
        "        index += 1\n",
        "\n",
        "    return result_ss"
      ],
      "metadata": {
        "id": "jYVOreG_qX8M"
      },
      "execution_count": 16,
      "outputs": []
    },
    {
      "cell_type": "markdown",
      "source": [
        "A classe PSO possui algumas fases assim como o GA, onde incialmente se é configurado os parâmetros desejados, a geração e avaliação da população inicial de párticulas e a evolução desse algoritmo. Ressaltando que os parâmetros $Φ$ representam o quanto de sequência de trocas serão mantidas referentes as diferenças entre a posição atual e a global e local. \n",
        "\n"
      ],
      "metadata": {
        "id": "5CEBecHs52NT"
      }
    },
    {
      "cell_type": "code",
      "source": [
        "class PSO:\n",
        "    def __init__(self, table_of_distances: pd.DataFrame, population_size, max_epochs, fitness_function, phi_one, phi_two):\n",
        "        \"\"\"\n",
        "        Particle Swarm Optimization to solve TSP\n",
        "\n",
        "        :param table_of_distances: Distances of each city pair\n",
        "        :param population_size: Number of individuals in swarm\n",
        "        :param max_epochs: Max number of epochs\n",
        "        :param fitness_function: Function to evaluate each particle of the swarm\n",
        "        :param phi_one: Probability of the particle to go in direction of the GLOBAL best\n",
        "        :param phi_two: Probability of the particle to go in direction of the LOCAL best\n",
        "        \"\"\"\n",
        "        self.table_of_distances = table_of_distances\n",
        "        self.max_epochs = max_epochs\n",
        "        self.population_size = population_size\n",
        "        self.population = []\n",
        "        self.__initialize_population()\n",
        "        self.fitness_function = fitness_function\n",
        "        self.global_best_solution_route = []\n",
        "        self.global_best_solution_fitness = math.inf\n",
        "        self.phi_one = phi_one\n",
        "        self.phi_two = phi_two\n",
        "\n",
        "    def __initialize_population(self):\n",
        "        cities = list(self.table_of_distances.index.values)\n",
        "        for individual in range(self.population_size):\n",
        "            initial_route = sample(cities, len(cities))\n",
        "            self.population.append(Particle(initial_route))\n",
        "        self.global_best_solution_route = self.population[0].route\n",
        "        self.global_best_solution_fitness = self.population[0].fitness\n",
        "\n",
        "    def evaluate_population(self):\n",
        "        for particle in self.population:\n",
        "            fitness = self.fitness_function(particle.route, self.table_of_distances)\n",
        "            particle.fitness = fitness\n",
        "            if fitness < particle.my_best_fitness:\n",
        "                particle.my_best_fitness, particle.my_best_route = fitness, particle.route\n",
        "            if fitness < self.global_best_solution_fitness:\n",
        "                self.global_best_solution_route, self.global_best_solution_fitness = particle.route.copy(), particle.fitness\n",
        "\n",
        "    def update_population(self):\n",
        "        for particle in self.population:\n",
        "            # Updating velocity\n",
        "            # V(t) = V(t-1) + phi_one * (best_global - current_route) + phi_two * (best_local - current_route)\n",
        "\n",
        "            # phi_one * (best_global - current_route)\n",
        "            global_subtraction = routes_subtraction(self.global_best_solution_route, particle.route)\n",
        "            aux_global_subtraction_queue = global_subtraction.queue.copy()\n",
        "            for swap in global_subtraction.queue:\n",
        "                probability = random()\n",
        "                if probability <= self.phi_one:\n",
        "                    aux_global_subtraction_queue.remove(swap)\n",
        "            global_subtraction.queue = aux_global_subtraction_queue\n",
        "\n",
        "            # phi_two * (best_local - current_route)\n",
        "            local_subtraction = routes_subtraction(particle.my_best_route, particle.route)\n",
        "            aux_local_subtraction_queue = local_subtraction.queue.copy()\n",
        "            for swap in local_subtraction.queue:\n",
        "                probability = random()\n",
        "                if probability <= self.phi_two:\n",
        "                    aux_local_subtraction_queue.remove(swap)\n",
        "            local_subtraction.queue = aux_local_subtraction_queue\n",
        "\n",
        "            # Update position\n",
        "            # X(t) = X(t-1) + V(t-1)\n",
        "            for swap in particle.swap_sequence.queue:\n",
        "                swap_cities(particle.route, swap[0], swap[1])\n",
        "\n",
        "            # Update V(t)\n",
        "            particle.swap_sequence.enqueue_ss(global_subtraction.queue)\n",
        "            particle.swap_sequence.enqueue_ss(local_subtraction.queue)\n",
        "\n",
        "    def evolve(self):\n",
        "        for epoch in range(self.max_epochs):\n",
        "            self.evaluate_population()\n",
        "            self.update_population()\n",
        "        print('Best route is', self.global_best_solution_route, 'with a distance equal to',\n",
        "              self.global_best_solution_fitness)"
      ],
      "metadata": {
        "id": "SZpda8Oe6O0x"
      },
      "execution_count": 17,
      "outputs": []
    },
    {
      "cell_type": "markdown",
      "source": [
        "## Configuração de parâmetros e avaliação do PSO"
      ],
      "metadata": {
        "id": "IsMYiTtE6P_M"
      }
    },
    {
      "cell_type": "code",
      "source": [
        "cities_distance = read_table_of_distances('distances.csv')\n",
        "population = 30\n",
        "epochs = 1000\n",
        "fitness_func = distance_of_route\n",
        "global_probability = 0.4\n",
        "local_probability = 0.6\n",
        "for _ in range(15):\n",
        "    pso = PSO(cities_distance, population, epochs, fitness_func, global_probability, local_probability)\n",
        "    pso.evolve()\n"
      ],
      "metadata": {
        "colab": {
          "base_uri": "https://localhost:8080/"
        },
        "id": "Ojpu8nWB6QSA",
        "outputId": "cd17a7ac-1ea8-4ef2-ab07-7ad332d05dd1"
      },
      "execution_count": 19,
      "outputs": [
        {
          "output_type": "stream",
          "name": "stdout",
          "text": [
            "Best route is ['H', 'A', 'E', 'B', 'C', 'G', 'F', 'D'] with a distance equal to 140\n",
            "Best route is ['F', 'G', 'B', 'C', 'D', 'H', 'A', 'E'] with a distance equal to 151\n",
            "Best route is ['A', 'E', 'B', 'C', 'G', 'F', 'D', 'H'] with a distance equal to 140\n",
            "Best route is ['F', 'G', 'C', 'B', 'E', 'A', 'H', 'D'] with a distance equal to 140\n",
            "Best route is ['D', 'H', 'A', 'E', 'B', 'C', 'G', 'F'] with a distance equal to 140\n",
            "Best route is ['F', 'D', 'H', 'A', 'E', 'B', 'C', 'G'] with a distance equal to 140\n",
            "Best route is ['D', 'F', 'G', 'C', 'B', 'E', 'A', 'H'] with a distance equal to 140\n",
            "Best route is ['D', 'C', 'G', 'B', 'E', 'A', 'H', 'F'] with a distance equal to 168\n",
            "Best route is ['E', 'A', 'H', 'D', 'F', 'G', 'C', 'B'] with a distance equal to 140\n",
            "Best route is ['C', 'G', 'F', 'D', 'H', 'A', 'E', 'B'] with a distance equal to 140\n",
            "Best route is ['F', 'G', 'C', 'B', 'E', 'A', 'H', 'D'] with a distance equal to 140\n",
            "Best route is ['E', 'F', 'G', 'B', 'C', 'D', 'H', 'A'] with a distance equal to 151\n",
            "Best route is ['C', 'G', 'F', 'D', 'H', 'A', 'E', 'B'] with a distance equal to 140\n",
            "Best route is ['E', 'A', 'H', 'D', 'C', 'B', 'G', 'F'] with a distance equal to 151\n",
            "Best route is ['F', 'G', 'C', 'B', 'E', 'A', 'H', 'D'] with a distance equal to 140\n"
          ]
        }
      ]
    }
  ]
}